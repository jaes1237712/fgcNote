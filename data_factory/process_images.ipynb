{
 "cells": [
  {
   "cell_type": "code",
   "execution_count": 17,
   "id": "26c452ae",
   "metadata": {},
   "outputs": [
    {
     "data": {
      "text/plain": [
       "<module 'services.image' from '/home/hung/fgcNote/data_factory/services/image.py'>"
      ]
     },
     "execution_count": 17,
     "metadata": {},
     "output_type": "execute_result"
    }
   ],
   "source": [
    "from importlib import reload\n",
    "import services.image as util_image\n",
    "reload(util_image)"
   ]
  },
  {
   "cell_type": "code",
   "execution_count": 14,
   "id": "c61eac22",
   "metadata": {},
   "outputs": [],
   "source": [
    "target_directory = \"/home/hung/fgcNote/data_factory/download/OTHER/\""
   ]
  },
  {
   "cell_type": "code",
   "execution_count": 19,
   "id": "ca45ff3c",
   "metadata": {},
   "outputs": [],
   "source": [
    "util_image.convert_all_image_into_webp_parallel(target_directory)"
   ]
  },
  {
   "cell_type": "code",
   "execution_count": 21,
   "id": "135162f3",
   "metadata": {},
   "outputs": [],
   "source": [
    "target_directory = \"/home/hung/fgcNote/data_factory/download/CHARACTER/\""
   ]
  },
  {
   "cell_type": "code",
   "execution_count": 22,
   "id": "b0d93d35",
   "metadata": {},
   "outputs": [],
   "source": [
    "util_image.convert_all_image_into_webp_parallel(target_directory)"
   ]
  }
 ],
 "metadata": {
  "kernelspec": {
   "display_name": ".venv",
   "language": "python",
   "name": "python3"
  },
  "language_info": {
   "codemirror_mode": {
    "name": "ipython",
    "version": 3
   },
   "file_extension": ".py",
   "mimetype": "text/x-python",
   "name": "python",
   "nbconvert_exporter": "python",
   "pygments_lexer": "ipython3",
   "version": "3.13.2"
  }
 },
 "nbformat": 4,
 "nbformat_minor": 5
}

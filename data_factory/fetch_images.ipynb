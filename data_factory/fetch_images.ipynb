{
 "cells": [
  {
   "cell_type": "code",
   "execution_count": 12,
   "id": "7a738886",
   "metadata": {},
   "outputs": [
    {
     "data": {
      "text/plain": [
       "<module 'services.image' from '/home/hung/fgcNote/data_factory/services/image.py'>"
      ]
     },
     "execution_count": 12,
     "metadata": {},
     "output_type": "execute_result"
    }
   ],
   "source": [
    "from importlib import reload\n",
    "import services.image as util_image\n",
    "reload(util_image)"
   ]
  },
  {
   "cell_type": "code",
   "execution_count": null,
   "id": "9306ed16",
   "metadata": {},
   "outputs": [],
   "source": []
  },
  {
   "cell_type": "code",
   "execution_count": 8,
   "id": "4527a5c5",
   "metadata": {},
   "outputs": [],
   "source": [
    "urls = util_image.get_all_image_urls(\"Street_Fighter_6/Akuma\")"
   ]
  },
  {
   "cell_type": "code",
   "execution_count": 9,
   "id": "c026ba26",
   "metadata": {},
   "outputs": [
    {
     "name": "stdout",
     "output_type": "stream",
     "text": [
      "['https://wiki.supercombo.gg/images/b/bf/SF6_A.K.I._Icon.png', 'https://wiki.supercombo.gg/images/1/15/SF6_Akuma_214214k.png', 'https://wiki.supercombo.gg/images/1/1d/SF6_Akuma_214214k_hitbox.png', 'https://wiki.supercombo.gg/images/b/bc/SF6_Akuma_214214p.png', 'https://wiki.supercombo.gg/images/4/4a/SF6_Akuma_214214p_hitbox.png', 'https://wiki.supercombo.gg/images/1/1d/SF6_Akuma_214hk.png', 'https://wiki.supercombo.gg/images/2/2e/SF6_Akuma_214hk_hitbox.png', 'https://wiki.supercombo.gg/images/8/87/SF6_Akuma_214hp_6p.png', 'https://wiki.supercombo.gg/images/0/02/SF6_Akuma_214hp_6p_hitbox.png', 'https://wiki.supercombo.gg/images/0/00/SF6_Akuma_214kk_2_hitbox.png', 'https://wiki.supercombo.gg/images/4/45/SF6_Akuma_214kk_hitbox.png', 'https://wiki.supercombo.gg/images/1/15/SF6_Akuma_214lk.png', 'https://wiki.supercombo.gg/images/f/fc/SF6_Akuma_214lk_hitbox.png', 'https://wiki.supercombo.gg/images/b/ba/SF6_Akuma_214lp.png', 'https://wiki.supercombo.gg/images/9/95/SF6_Akuma_214lp_6p.png', 'https://wiki.supercombo.gg/images/3/31/SF6_Akuma_214lp_6p_hitbox.png', 'https://wiki.supercombo.gg/images/e/e3/SF6_Akuma_214lp_hitbox.png', 'https://wiki.supercombo.gg/images/b/b1/SF6_Akuma_214mk_hitbox.png', 'https://wiki.supercombo.gg/images/4/43/SF6_Akuma_214mp_6p.png', 'https://wiki.supercombo.gg/images/f/fd/SF6_Akuma_214mp_6p_hitbox.png', 'https://wiki.supercombo.gg/images/1/1f/SF6_Akuma_214pp_6p.png', 'https://wiki.supercombo.gg/images/c/cf/SF6_Akuma_214pp_6p_hitbox.png', 'https://wiki.supercombo.gg/images/1/1c/SF6_Akuma_22ppp.png', 'https://wiki.supercombo.gg/images/b/b5/SF6_Akuma_22ppp_hitbox.png', 'https://wiki.supercombo.gg/images/9/98/SF6_Akuma_236236k.png', 'https://wiki.supercombo.gg/images/8/85/SF6_Akuma_236236k_ca.png', 'https://wiki.supercombo.gg/images/3/36/SF6_Akuma_236236k_hitbox.png', 'https://wiki.supercombo.gg/images/1/1c/SF6_Akuma_236236p.png', 'https://wiki.supercombo.gg/images/3/34/SF6_Akuma_236236p_hitbox.png', 'https://wiki.supercombo.gg/images/3/3f/SF6_Akuma_236k.png', 'https://wiki.supercombo.gg/images/5/5e/SF6_Akuma_236k_2_hold.png', 'https://wiki.supercombo.gg/images/f/ff/SF6_Akuma_236k_2_hold_hitbox.png', 'https://wiki.supercombo.gg/images/0/04/SF6_Akuma_236k_hitbox.png', 'https://wiki.supercombo.gg/images/7/74/SF6_Akuma_236k_k.png', 'https://wiki.supercombo.gg/images/8/89/SF6_Akuma_236k_k_hitbox.png', 'https://wiki.supercombo.gg/images/f/fc/SF6_Akuma_236k_no_input.png', 'https://wiki.supercombo.gg/images/d/d0/SF6_Akuma_236k_no_input_hitbox.png', 'https://wiki.supercombo.gg/images/8/84/SF6_Akuma_236k_p.png', 'https://wiki.supercombo.gg/images/6/60/SF6_Akuma_236k_p_hitbox.png', 'https://wiki.supercombo.gg/images/3/33/SF6_Akuma_236kk_j214k.png', 'https://wiki.supercombo.gg/images/7/74/SF6_Akuma_236kk_j236p.png', 'https://wiki.supercombo.gg/images/3/36/SF6_Akuma_236lp.png', 'https://wiki.supercombo.gg/images/7/7e/SF6_Akuma_236lp_hitbox.png', 'https://wiki.supercombo.gg/images/0/0b/SF6_Akuma_236p_hold.png', 'https://wiki.supercombo.gg/images/c/cb/SF6_Akuma_236p_hold_hitbox.png', 'https://wiki.supercombo.gg/images/3/32/SF6_Akuma_236p_partial_hold.png', 'https://wiki.supercombo.gg/images/9/91/SF6_Akuma_236p_partial_hold_hitbox.png', 'https://wiki.supercombo.gg/images/f/f3/SF6_Akuma_236pp_hitbox.png', 'https://wiki.supercombo.gg/images/2/2c/SF6_Akuma_236pp_hold_hitbox.png', 'https://wiki.supercombo.gg/images/0/0f/SF6_Akuma_2hk.png', 'https://wiki.supercombo.gg/images/e/e4/SF6_Akuma_2hk_hitbox.png', 'https://wiki.supercombo.gg/images/4/43/SF6_Akuma_2hp.png', 'https://wiki.supercombo.gg/images/b/be/SF6_Akuma_2hp_hitbox.png', 'https://wiki.supercombo.gg/images/6/6b/SF6_Akuma_2lk.png', 'https://wiki.supercombo.gg/images/f/fa/SF6_Akuma_2lk_hitbox.png', 'https://wiki.supercombo.gg/images/2/28/SF6_Akuma_2lp.png', 'https://wiki.supercombo.gg/images/f/f8/SF6_Akuma_2lp_hitbox.png', 'https://wiki.supercombo.gg/images/1/1a/SF6_Akuma_2mk.png', 'https://wiki.supercombo.gg/images/f/fb/SF6_Akuma_2mk_hitbox.png', 'https://wiki.supercombo.gg/images/e/e3/SF6_Akuma_2mp.png', 'https://wiki.supercombo.gg/images/7/7d/SF6_Akuma_2mp_hitbox.png', 'https://wiki.supercombo.gg/images/f/fd/SF6_Akuma_2pppkkk.png', 'https://wiki.supercombo.gg/images/c/ca/SF6_Akuma_2pppkkk_hitbox.png', 'https://wiki.supercombo.gg/images/c/c0/SF6_Akuma_4hk.png', 'https://wiki.supercombo.gg/images/e/ed/SF6_Akuma_4hk_hitbox.png', 'https://wiki.supercombo.gg/images/8/86/SF6_Akuma_4kkk.png', 'https://wiki.supercombo.gg/images/f/f5/SF6_Akuma_4kkk_hitbox.png', 'https://wiki.supercombo.gg/images/5/51/SF6_Akuma_4lplk.png', 'https://wiki.supercombo.gg/images/b/b3/SF6_Akuma_4pppkkk.png', 'https://wiki.supercombo.gg/images/6/6f/SF6_Akuma_4pppkkk_2pppkkk.png', 'https://wiki.supercombo.gg/images/5/5b/SF6_Akuma_4pppkkk_hitbox.png', 'https://wiki.supercombo.gg/images/0/00/SF6_Akuma_5hk.png', 'https://wiki.supercombo.gg/images/c/c1/SF6_Akuma_5hk_2.png', 'https://wiki.supercombo.gg/images/2/20/SF6_Akuma_5hk_2_hitbox.png', 'https://wiki.supercombo.gg/images/9/99/SF6_Akuma_5hk_hitbox.png', 'https://wiki.supercombo.gg/images/e/ef/SF6_Akuma_5hp.png', 'https://wiki.supercombo.gg/images/1/12/SF6_Akuma_5hp_hitbox.png', 'https://wiki.supercombo.gg/images/9/90/SF6_Akuma_5lk.png', 'https://wiki.supercombo.gg/images/5/55/SF6_Akuma_5lk_hitbox.png', 'https://wiki.supercombo.gg/images/2/23/SF6_Akuma_5lp.png', 'https://wiki.supercombo.gg/images/f/f2/SF6_Akuma_5lp_hitbox.png', 'https://wiki.supercombo.gg/images/6/62/SF6_Akuma_5mk.png', 'https://wiki.supercombo.gg/images/7/76/SF6_Akuma_5mk_hitbox.png', 'https://wiki.supercombo.gg/images/a/a8/SF6_Akuma_5mk_hk.png', 'https://wiki.supercombo.gg/images/9/98/SF6_Akuma_5mk_hk_hitbox.png', 'https://wiki.supercombo.gg/images/d/d6/SF6_Akuma_5mp.png', 'https://wiki.supercombo.gg/images/1/19/SF6_Akuma_5mp_hitbox.png', 'https://wiki.supercombo.gg/images/b/b5/SF6_Akuma_5mp_mp.png', 'https://wiki.supercombo.gg/images/9/90/SF6_Akuma_5mp_mp_hitbox.png', 'https://wiki.supercombo.gg/images/2/2c/SF6_Akuma_5pppkkk.png', 'https://wiki.supercombo.gg/images/d/d3/SF6_Akuma_5pppkkk_hitbox.png', 'https://wiki.supercombo.gg/images/6/6e/SF6_Akuma_623hp_hitbox.png', 'https://wiki.supercombo.gg/images/2/2b/SF6_Akuma_623lp.png', 'https://wiki.supercombo.gg/images/1/10/SF6_Akuma_623lp_hitbox.png', 'https://wiki.supercombo.gg/images/d/d0/SF6_Akuma_623pp.png', 'https://wiki.supercombo.gg/images/e/ea/SF6_Akuma_623pp_hitbox.png', 'https://wiki.supercombo.gg/images/c/cb/SF6_Akuma_66.png', 'https://wiki.supercombo.gg/images/d/d9/SF6_Akuma_66_hitbox.png', 'https://wiki.supercombo.gg/images/8/8f/SF6_Akuma_6hp.png', 'https://wiki.supercombo.gg/images/4/4b/SF6_Akuma_6hp_6hp.png', 'https://wiki.supercombo.gg/images/2/2f/SF6_Akuma_6hp_6hp_hitbox.png', 'https://wiki.supercombo.gg/images/6/65/SF6_Akuma_6hp_6hp_hk.png', 'https://wiki.supercombo.gg/images/d/d6/SF6_Akuma_6hp_6hp_hk_hitbox.png', 'https://wiki.supercombo.gg/images/5/5e/SF6_Akuma_6hp_hitbox.png', 'https://wiki.supercombo.gg/images/1/1d/SF6_Akuma_6hphk.png', 'https://wiki.supercombo.gg/images/a/a5/SF6_Akuma_6hphk_hitbox.png', 'https://wiki.supercombo.gg/images/5/5a/SF6_Akuma_6kkk.png', 'https://wiki.supercombo.gg/images/e/e5/SF6_Akuma_6kkk_hitbox.png', 'https://wiki.supercombo.gg/images/6/67/SF6_Akuma_6kkk_lplk.png', 'https://wiki.supercombo.gg/images/6/6a/SF6_Akuma_6kkk_lplk_2.png', 'https://wiki.supercombo.gg/images/2/2f/SF6_Akuma_6kkk_lplk_hitbox.png', 'https://wiki.supercombo.gg/images/4/4d/SF6_Akuma_6mk.png', 'https://wiki.supercombo.gg/images/b/b0/SF6_Akuma_6mk_hitbox.png', 'https://wiki.supercombo.gg/images/0/0a/SF6_Akuma_6mp.png', 'https://wiki.supercombo.gg/images/2/23/SF6_Akuma_6mp_hitbox.png', 'https://wiki.supercombo.gg/images/0/05/SF6_Akuma_6pppkkk.png', 'https://wiki.supercombo.gg/images/0/06/SF6_Akuma_6pppkkk_hitbox.png', 'https://wiki.supercombo.gg/images/0/07/SF6_Akuma_Icon.png', 'https://wiki.supercombo.gg/images/b/be/SF6_Akuma_Portrait.png', 'https://wiki.supercombo.gg/images/6/61/SF6_Akuma_hphk.png', 'https://wiki.supercombo.gg/images/1/19/SF6_Akuma_hphk_hitbox.png', 'https://wiki.supercombo.gg/images/8/80/SF6_Akuma_j214k.png', 'https://wiki.supercombo.gg/images/6/64/SF6_Akuma_j214k_hitbox.png', 'https://wiki.supercombo.gg/images/9/98/SF6_Akuma_j214kk_hitbox.png', 'https://wiki.supercombo.gg/images/2/2b/SF6_Akuma_j214pp.png', 'https://wiki.supercombo.gg/images/a/ab/SF6_Akuma_j214pp_hitbox.png', 'https://wiki.supercombo.gg/images/4/4f/SF6_Akuma_j236236k.png', 'https://wiki.supercombo.gg/images/d/d1/SF6_Akuma_j236236k_hitbox.png', 'https://wiki.supercombo.gg/images/4/4a/SF6_Akuma_j236p.png', 'https://wiki.supercombo.gg/images/f/fa/SF6_Akuma_j236p_hitbox.png', 'https://wiki.supercombo.gg/images/4/4a/SF6_Akuma_j236pp_hitbox.png', 'https://wiki.supercombo.gg/images/5/54/SF6_Akuma_j2mk.png', 'https://wiki.supercombo.gg/images/0/00/SF6_Akuma_j2mk_hitbox.png', 'https://wiki.supercombo.gg/images/8/8c/SF6_Akuma_jhk.png', 'https://wiki.supercombo.gg/images/3/3e/SF6_Akuma_jhk_hitbox.png', 'https://wiki.supercombo.gg/images/2/22/SF6_Akuma_jhp.png', 'https://wiki.supercombo.gg/images/f/f5/SF6_Akuma_jhp_hitbox.png', 'https://wiki.supercombo.gg/images/b/b1/SF6_Akuma_jlk.png', 'https://wiki.supercombo.gg/images/5/5a/SF6_Akuma_jlk_hitbox.png', 'https://wiki.supercombo.gg/images/2/28/SF6_Akuma_jlp.png', 'https://wiki.supercombo.gg/images/c/c1/SF6_Akuma_jlp_hitbox.png', 'https://wiki.supercombo.gg/images/8/87/SF6_Akuma_jmk.png', 'https://wiki.supercombo.gg/images/5/59/SF6_Akuma_jmk_hitbox.png', 'https://wiki.supercombo.gg/images/8/8d/SF6_Akuma_jmp.png', 'https://wiki.supercombo.gg/images/2/2f/SF6_Akuma_jmp_hitbox.png', 'https://wiki.supercombo.gg/images/7/7b/SF6_Akuma_lp_lp_6lk_hp%28ca%29.png', 'https://wiki.supercombo.gg/images/a/a6/SF6_Akuma_lp_lp_6lk_hp%28ca%29_hitbox.png', 'https://wiki.supercombo.gg/images/8/82/SF6_Akuma_lplk.png', 'https://wiki.supercombo.gg/images/0/0d/SF6_Akuma_lplk_hitbox.png', 'https://wiki.supercombo.gg/images/9/9a/SF6_Akuma_mpmk.png', 'https://wiki.supercombo.gg/images/a/ad/SF6_Akuma_mpmk_hitbox.png', 'https://wiki.supercombo.gg/images/9/9a/SF6_Blanka_Icon.png', 'https://wiki.supercombo.gg/images/6/61/SF6_Cammy_Icon.png', 'https://wiki.supercombo.gg/images/1/1c/SF6_Chun-Li_Icon.png', 'https://wiki.supercombo.gg/images/9/9c/SF6_Classic.png', 'https://wiki.supercombo.gg/images/4/4d/SF6_DeeJay_Icon.png', 'https://wiki.supercombo.gg/images/a/a8/SF6_Dhalsim_Icon.png', 'https://wiki.supercombo.gg/images/d/d7/SF6_Ed_Icon.png', 'https://wiki.supercombo.gg/images/6/69/SF6_Ehonda_Icon.png', 'https://wiki.supercombo.gg/images/4/4f/SF6_Elena_Icon.png', 'https://wiki.supercombo.gg/images/e/ea/SF6_Guile_Icon.png', 'https://wiki.supercombo.gg/images/4/4e/SF6_JP_Icon.png', 'https://wiki.supercombo.gg/images/2/29/SF6_Jamie_Icon.png', 'https://wiki.supercombo.gg/images/7/72/SF6_Juri_Icon.png', 'https://wiki.supercombo.gg/images/5/53/SF6_Ken_Icon.png', 'https://wiki.supercombo.gg/images/8/8f/SF6_Kimberly_Icon.png', 'https://wiki.supercombo.gg/images/2/2b/SF6_Lily_Icon.png', 'https://wiki.supercombo.gg/images/8/8c/SF6_Luke_Icon.png', 'https://wiki.supercombo.gg/images/e/ee/SF6_Mai_Icon.png', 'https://wiki.supercombo.gg/images/c/ca/SF6_Manon_Icon.png', 'https://wiki.supercombo.gg/images/5/54/SF6_Marisa_Icon.png', 'https://wiki.supercombo.gg/images/3/3c/SF6_Mbison_Icon.png', 'https://wiki.supercombo.gg/images/2/2e/SF6_Modern.png', 'https://wiki.supercombo.gg/images/4/49/SF6_Rashid_Icon.png', 'https://wiki.supercombo.gg/images/b/be/SF6_Ryu_Icon.png', 'https://wiki.supercombo.gg/images/1/10/SF6_Sagat_Icon.png', 'https://wiki.supercombo.gg/images/b/b4/SF6_Terry_Icon.png', 'https://wiki.supercombo.gg/images/4/4b/SF6_Zangief_Icon.png']\n"
     ]
    }
   ],
   "source": [
    "print(urls)"
   ]
  },
  {
   "cell_type": "code",
   "execution_count": 10,
   "id": "73bd1693",
   "metadata": {},
   "outputs": [
    {
     "data": {
      "text/plain": [
       "['/home/hung/fgcNote/data_factory/download/Akuma/SF6_Akuma_214214k.png',\n",
       " '/home/hung/fgcNote/data_factory/download/Akuma/SF6_Akuma_214214k_hitbox.png',\n",
       " '/home/hung/fgcNote/data_factory/download/Akuma/SF6_Akuma_214214p_hitbox.png',\n",
       " '/home/hung/fgcNote/data_factory/download/Akuma/SF6_Akuma_214214p.png',\n",
       " '/home/hung/fgcNote/data_factory/download/Akuma/SF6_Akuma_214hk.png',\n",
       " '/home/hung/fgcNote/data_factory/download/Akuma/SF6_Akuma_214hp_6p.png',\n",
       " '/home/hung/fgcNote/data_factory/download/Akuma/SF6_Akuma_214hp_6p_hitbox.png',\n",
       " '/home/hung/fgcNote/data_factory/download/Akuma/SF6_Akuma_214hk_hitbox.png',\n",
       " '/home/hung/fgcNote/data_factory/download/Akuma/SF6_Akuma_214kk_hitbox.png',\n",
       " '/home/hung/fgcNote/data_factory/download/Akuma/SF6_Akuma_214kk_2_hitbox.png',\n",
       " '/home/hung/fgcNote/data_factory/download/Akuma/SF6_Akuma_214lk.png',\n",
       " '/home/hung/fgcNote/data_factory/download/Akuma/SF6_Akuma_214lk_hitbox.png',\n",
       " '/home/hung/fgcNote/data_factory/download/Akuma/SF6_Akuma_214lp_6p.png',\n",
       " '/home/hung/fgcNote/data_factory/download/Akuma/SF6_Akuma_214lp_6p_hitbox.png',\n",
       " '/home/hung/fgcNote/data_factory/download/Akuma/SF6_Akuma_214lp.png',\n",
       " '/home/hung/fgcNote/data_factory/download/Akuma/SF6_Akuma_214lp_hitbox.png',\n",
       " '/home/hung/fgcNote/data_factory/download/Akuma/SF6_Akuma_214mp_6p.png',\n",
       " '/home/hung/fgcNote/data_factory/download/Akuma/SF6_Akuma_214mp_6p_hitbox.png',\n",
       " '/home/hung/fgcNote/data_factory/download/Akuma/SF6_Akuma_214mk_hitbox.png',\n",
       " '/home/hung/fgcNote/data_factory/download/Akuma/SF6_Akuma_22ppp_hitbox.png',\n",
       " '/home/hung/fgcNote/data_factory/download/Akuma/SF6_Akuma_214pp_6p.png',\n",
       " '/home/hung/fgcNote/data_factory/download/Akuma/SF6_Akuma_214pp_6p_hitbox.png',\n",
       " '/home/hung/fgcNote/data_factory/download/Akuma/SF6_Akuma_22ppp.png',\n",
       " '/home/hung/fgcNote/data_factory/download/Akuma/SF6_Akuma_236236k.png',\n",
       " '/home/hung/fgcNote/data_factory/download/Akuma/SF6_Akuma_236236p.png',\n",
       " '/home/hung/fgcNote/data_factory/download/Akuma/SF6_Akuma_236236k_hitbox.png',\n",
       " '/home/hung/fgcNote/data_factory/download/Akuma/SF6_Akuma_236236p_hitbox.png',\n",
       " '/home/hung/fgcNote/data_factory/download/Akuma/SF6_Akuma_236236k_ca.png',\n",
       " '/home/hung/fgcNote/data_factory/download/Akuma/SF6_Akuma_236k.png',\n",
       " '/home/hung/fgcNote/data_factory/download/Akuma/SF6_Akuma_236k_2_hold_hitbox.png',\n",
       " '/home/hung/fgcNote/data_factory/download/Akuma/SF6_Akuma_236k_2_hold.png',\n",
       " '/home/hung/fgcNote/data_factory/download/Akuma/SF6_Akuma_236k_hitbox.png',\n",
       " '/home/hung/fgcNote/data_factory/download/Akuma/SF6_Akuma_236k_k_hitbox.png',\n",
       " '/home/hung/fgcNote/data_factory/download/Akuma/SF6_Akuma_236k_no_input_hitbox.png',\n",
       " '/home/hung/fgcNote/data_factory/download/Akuma/SF6_Akuma_236k_k.png',\n",
       " '/home/hung/fgcNote/data_factory/download/Akuma/SF6_Akuma_236k_no_input.png',\n",
       " '/home/hung/fgcNote/data_factory/download/Akuma/SF6_Akuma_236k_p.png',\n",
       " '/home/hung/fgcNote/data_factory/download/Akuma/SF6_Akuma_236k_p_hitbox.png',\n",
       " '/home/hung/fgcNote/data_factory/download/Akuma/SF6_Akuma_236kk_j214k.png',\n",
       " '/home/hung/fgcNote/data_factory/download/Akuma/SF6_Akuma_236lp.png',\n",
       " '/home/hung/fgcNote/data_factory/download/Akuma/SF6_Akuma_236kk_j236p.png',\n",
       " '/home/hung/fgcNote/data_factory/download/Akuma/SF6_Akuma_236lp_hitbox.png',\n",
       " '/home/hung/fgcNote/data_factory/download/Akuma/SF6_Akuma_236p_hold.png',\n",
       " '/home/hung/fgcNote/data_factory/download/Akuma/SF6_Akuma_236p_partial_hold.png',\n",
       " '/home/hung/fgcNote/data_factory/download/Akuma/SF6_Akuma_236p_hold_hitbox.png',\n",
       " '/home/hung/fgcNote/data_factory/download/Akuma/SF6_Akuma_236p_partial_hold_hitbox.png',\n",
       " '/home/hung/fgcNote/data_factory/download/Akuma/SF6_Akuma_236pp_hitbox.png',\n",
       " '/home/hung/fgcNote/data_factory/download/Akuma/SF6_Akuma_2hp.png',\n",
       " '/home/hung/fgcNote/data_factory/download/Akuma/SF6_Akuma_236pp_hold_hitbox.png',\n",
       " '/home/hung/fgcNote/data_factory/download/Akuma/SF6_Akuma_2hk_hitbox.png',\n",
       " '/home/hung/fgcNote/data_factory/download/Akuma/SF6_Akuma_2hk.png',\n",
       " '/home/hung/fgcNote/data_factory/download/Akuma/SF6_Akuma_2lk_hitbox.png',\n",
       " '/home/hung/fgcNote/data_factory/download/Akuma/SF6_Akuma_2lk.png',\n",
       " '/home/hung/fgcNote/data_factory/download/Akuma/SF6_Akuma_2lp.png',\n",
       " '/home/hung/fgcNote/data_factory/download/Akuma/SF6_Akuma_2hp_hitbox.png',\n",
       " '/home/hung/fgcNote/data_factory/download/Akuma/SF6_Akuma_2lp_hitbox.png',\n",
       " '/home/hung/fgcNote/data_factory/download/Akuma/SF6_Akuma_2mk_hitbox.png',\n",
       " '/home/hung/fgcNote/data_factory/download/Akuma/SF6_Akuma_2mk.png',\n",
       " '/home/hung/fgcNote/data_factory/download/Akuma/SF6_Akuma_2mp.png',\n",
       " '/home/hung/fgcNote/data_factory/download/Akuma/SF6_Akuma_2mp_hitbox.png',\n",
       " '/home/hung/fgcNote/data_factory/download/Akuma/SF6_Akuma_2pppkkk_hitbox.png',\n",
       " '/home/hung/fgcNote/data_factory/download/Akuma/SF6_Akuma_2pppkkk.png',\n",
       " '/home/hung/fgcNote/data_factory/download/Akuma/SF6_Akuma_4hk.png',\n",
       " '/home/hung/fgcNote/data_factory/download/Akuma/SF6_Akuma_4kkk_hitbox.png',\n",
       " '/home/hung/fgcNote/data_factory/download/Akuma/SF6_Akuma_4hk_hitbox.png',\n",
       " '/home/hung/fgcNote/data_factory/download/Akuma/SF6_Akuma_4pppkkk.png',\n",
       " '/home/hung/fgcNote/data_factory/download/Akuma/SF6_Akuma_4kkk.png',\n",
       " '/home/hung/fgcNote/data_factory/download/Akuma/SF6_Akuma_4pppkkk_2pppkkk.png',\n",
       " '/home/hung/fgcNote/data_factory/download/Akuma/SF6_Akuma_4lplk.png',\n",
       " '/home/hung/fgcNote/data_factory/download/Akuma/SF6_Akuma_4pppkkk_hitbox.png',\n",
       " '/home/hung/fgcNote/data_factory/download/Akuma/SF6_Akuma_5hk_2.png',\n",
       " '/home/hung/fgcNote/data_factory/download/Akuma/SF6_Akuma_5hk.png',\n",
       " '/home/hung/fgcNote/data_factory/download/Akuma/SF6_Akuma_5hk_2_hitbox.png',\n",
       " '/home/hung/fgcNote/data_factory/download/Akuma/SF6_Akuma_5hk_hitbox.png',\n",
       " '/home/hung/fgcNote/data_factory/download/Akuma/SF6_Akuma_5lk.png',\n",
       " '/home/hung/fgcNote/data_factory/download/Akuma/SF6_Akuma_5lk_hitbox.png',\n",
       " '/home/hung/fgcNote/data_factory/download/Akuma/SF6_Akuma_5hp.png',\n",
       " '/home/hung/fgcNote/data_factory/download/Akuma/SF6_Akuma_5hp_hitbox.png',\n",
       " '/home/hung/fgcNote/data_factory/download/Akuma/SF6_Akuma_5lp.png',\n",
       " '/home/hung/fgcNote/data_factory/download/Akuma/SF6_Akuma_5lp_hitbox.png',\n",
       " '/home/hung/fgcNote/data_factory/download/Akuma/SF6_Akuma_5mk_hitbox.png',\n",
       " '/home/hung/fgcNote/data_factory/download/Akuma/SF6_Akuma_5mk.png',\n",
       " '/home/hung/fgcNote/data_factory/download/Akuma/SF6_Akuma_5mk_hk.png',\n",
       " '/home/hung/fgcNote/data_factory/download/Akuma/SF6_Akuma_5mp.png',\n",
       " '/home/hung/fgcNote/data_factory/download/Akuma/SF6_Akuma_5mp_hitbox.png',\n",
       " '/home/hung/fgcNote/data_factory/download/Akuma/SF6_Akuma_5mp_mp.png',\n",
       " '/home/hung/fgcNote/data_factory/download/Akuma/SF6_Akuma_5mp_mp_hitbox.png',\n",
       " '/home/hung/fgcNote/data_factory/download/Akuma/SF6_Akuma_5pppkkk.png',\n",
       " '/home/hung/fgcNote/data_factory/download/Akuma/SF6_Akuma_5mk_hk_hitbox.png',\n",
       " '/home/hung/fgcNote/data_factory/download/Akuma/SF6_Akuma_5pppkkk_hitbox.png',\n",
       " '/home/hung/fgcNote/data_factory/download/Akuma/SF6_Akuma_623hp_hitbox.png',\n",
       " '/home/hung/fgcNote/data_factory/download/Akuma/SF6_Akuma_623lp_hitbox.png',\n",
       " '/home/hung/fgcNote/data_factory/download/Akuma/SF6_Akuma_623lp.png',\n",
       " '/home/hung/fgcNote/data_factory/download/Akuma/SF6_Akuma_66.png',\n",
       " '/home/hung/fgcNote/data_factory/download/Akuma/SF6_Akuma_66_hitbox.png',\n",
       " '/home/hung/fgcNote/data_factory/download/Akuma/SF6_Akuma_623pp_hitbox.png',\n",
       " '/home/hung/fgcNote/data_factory/download/Akuma/SF6_Akuma_623pp.png',\n",
       " '/home/hung/fgcNote/data_factory/download/Akuma/SF6_Akuma_6hp.png',\n",
       " '/home/hung/fgcNote/data_factory/download/Akuma/SF6_Akuma_6hp_6hp_hitbox.png',\n",
       " '/home/hung/fgcNote/data_factory/download/Akuma/SF6_Akuma_6hp_6hp.png',\n",
       " '/home/hung/fgcNote/data_factory/download/Akuma/SF6_Akuma_6hp_6hp_hk_hitbox.png',\n",
       " '/home/hung/fgcNote/data_factory/download/Akuma/SF6_Akuma_6hphk_hitbox.png',\n",
       " '/home/hung/fgcNote/data_factory/download/Akuma/SF6_Akuma_6hp_hitbox.png',\n",
       " '/home/hung/fgcNote/data_factory/download/Akuma/SF6_Akuma_6hphk.png',\n",
       " '/home/hung/fgcNote/data_factory/download/Akuma/SF6_Akuma_6kkk_hitbox.png',\n",
       " '/home/hung/fgcNote/data_factory/download/Akuma/SF6_Akuma_6hp_6hp_hk.png',\n",
       " '/home/hung/fgcNote/data_factory/download/Akuma/SF6_Akuma_6kkk.png',\n",
       " '/home/hung/fgcNote/data_factory/download/Akuma/SF6_Akuma_6kkk_lplk.png',\n",
       " '/home/hung/fgcNote/data_factory/download/Akuma/SF6_Akuma_6kkk_lplk_hitbox.png',\n",
       " '/home/hung/fgcNote/data_factory/download/Akuma/SF6_Akuma_6kkk_lplk_2.png',\n",
       " '/home/hung/fgcNote/data_factory/download/Akuma/SF6_Akuma_6mk_hitbox.png',\n",
       " '/home/hung/fgcNote/data_factory/download/Akuma/SF6_Akuma_6mp.png',\n",
       " '/home/hung/fgcNote/data_factory/download/Akuma/SF6_Akuma_6mk.png',\n",
       " '/home/hung/fgcNote/data_factory/download/Akuma/SF6_Akuma_6pppkkk_hitbox.png',\n",
       " '/home/hung/fgcNote/data_factory/download/Akuma/SF6_Akuma_6pppkkk.png',\n",
       " '/home/hung/fgcNote/data_factory/download/Akuma/SF6_Akuma_6mp_hitbox.png',\n",
       " '/home/hung/fgcNote/data_factory/download/Akuma/SF6_Akuma_j214k.png',\n",
       " '/home/hung/fgcNote/data_factory/download/Akuma/SF6_Akuma_hphk_hitbox.png',\n",
       " '/home/hung/fgcNote/data_factory/download/Akuma/SF6_Akuma_Portrait.png',\n",
       " '/home/hung/fgcNote/data_factory/download/Akuma/SF6_Akuma_j214k_hitbox.png',\n",
       " '/home/hung/fgcNote/data_factory/download/Akuma/SF6_Akuma_hphk.png',\n",
       " '/home/hung/fgcNote/data_factory/download/Akuma/SF6_Akuma_j214kk_hitbox.png',\n",
       " '/home/hung/fgcNote/data_factory/download/Akuma/SF6_Akuma_j214pp_hitbox.png',\n",
       " '/home/hung/fgcNote/data_factory/download/Akuma/SF6_Akuma_j214pp.png',\n",
       " '/home/hung/fgcNote/data_factory/download/Akuma/SF6_Akuma_j236p.png',\n",
       " '/home/hung/fgcNote/data_factory/download/Akuma/SF6_Akuma_j236236k.png',\n",
       " '/home/hung/fgcNote/data_factory/download/Akuma/SF6_Akuma_j236236k_hitbox.png',\n",
       " '/home/hung/fgcNote/data_factory/download/Akuma/SF6_Akuma_j236pp_hitbox.png',\n",
       " '/home/hung/fgcNote/data_factory/download/Akuma/SF6_Akuma_j236p_hitbox.png',\n",
       " '/home/hung/fgcNote/data_factory/download/Akuma/SF6_Akuma_jhk.png',\n",
       " '/home/hung/fgcNote/data_factory/download/Akuma/SF6_Akuma_j2mk_hitbox.png',\n",
       " '/home/hung/fgcNote/data_factory/download/Akuma/SF6_Akuma_j2mk.png',\n",
       " '/home/hung/fgcNote/data_factory/download/Akuma/SF6_Akuma_jhp.png',\n",
       " '/home/hung/fgcNote/data_factory/download/Akuma/SF6_Akuma_jhk_hitbox.png',\n",
       " '/home/hung/fgcNote/data_factory/download/Akuma/SF6_Akuma_jlk_hitbox.png',\n",
       " '/home/hung/fgcNote/data_factory/download/Akuma/SF6_Akuma_jlp.png',\n",
       " '/home/hung/fgcNote/data_factory/download/Akuma/SF6_Akuma_jlk.png',\n",
       " '/home/hung/fgcNote/data_factory/download/Akuma/SF6_Akuma_jhp_hitbox.png',\n",
       " '/home/hung/fgcNote/data_factory/download/Akuma/SF6_Akuma_jmk.png',\n",
       " '/home/hung/fgcNote/data_factory/download/Akuma/SF6_Akuma_jlp_hitbox.png',\n",
       " '/home/hung/fgcNote/data_factory/download/Akuma/SF6_Akuma_jmk_hitbox.png',\n",
       " '/home/hung/fgcNote/data_factory/download/Akuma/SF6_Akuma_jmp.png',\n",
       " '/home/hung/fgcNote/data_factory/download/Akuma/SF6_Akuma_lp_lp_6lk_hp%28ca%29_hitbox.png',\n",
       " '/home/hung/fgcNote/data_factory/download/Akuma/SF6_Akuma_jmp_hitbox.png',\n",
       " '/home/hung/fgcNote/data_factory/download/Akuma/SF6_Akuma_lp_lp_6lk_hp%28ca%29.png',\n",
       " '/home/hung/fgcNote/data_factory/download/Akuma/SF6_Akuma_lplk_hitbox.png',\n",
       " '/home/hung/fgcNote/data_factory/download/Akuma/SF6_Akuma_lplk.png',\n",
       " '/home/hung/fgcNote/data_factory/download/Akuma/SF6_Akuma_mpmk_hitbox.png',\n",
       " '/home/hung/fgcNote/data_factory/download/Akuma/SF6_Akuma_mpmk.png']"
      ]
     },
     "execution_count": 10,
     "metadata": {},
     "output_type": "execute_result"
    }
   ],
   "source": [
    "import asyncio\n",
    "await util_image.async_download_files(url_list=urls, target_folder=\"/home/hung/fgcNote/data_factory/download/Akuma/\", concurrency=8, delay_between_starts=0.2)"
   ]
  },
  {
   "cell_type": "code",
   "execution_count": 11,
   "id": "07e952b9",
   "metadata": {},
   "outputs": [
    {
     "name": "stdout",
     "output_type": "stream",
     "text": [
      "178\n"
     ]
    }
   ],
   "source": [
    "print(len(urls))"
   ]
  },
  {
   "cell_type": "code",
   "execution_count": null,
   "id": "17a35961",
   "metadata": {},
   "outputs": [
    {
     "name": "stdout",
     "output_type": "stream",
     "text": [
      "Total characters: 29\n",
      "A.K.I.: 142 urls -> /home/hung/fgcNote/data_factory/download/A.K.I.\n",
      "Dee Jay: 165 urls -> /home/hung/fgcNote/data_factory/download/Dee Jay\n",
      "JP: 139 urls -> /home/hung/fgcNote/data_factory/download/JP\n",
      "Luke: 158 urls -> /home/hung/fgcNote/data_factory/download/Luke\n",
      "Rashid: 161 urls -> /home/hung/fgcNote/data_factory/download/Rashid\n",
      "Akuma: 178 urls -> /home/hung/fgcNote/data_factory/download/Akuma\n",
      "Dhalsim: 140 urls -> /home/hung/fgcNote/data_factory/download/Dhalsim\n",
      "Jamie: 188 urls -> /home/hung/fgcNote/data_factory/download/Jamie\n",
      "Mai: 160 urls -> /home/hung/fgcNote/data_factory/download/Mai\n",
      "Ryu: 136 urls -> /home/hung/fgcNote/data_factory/download/Ryu\n",
      "Blanka: 147 urls -> /home/hung/fgcNote/data_factory/download/Blanka\n",
      "Ed: 144 urls -> /home/hung/fgcNote/data_factory/download/Ed\n",
      "Juri: 136 urls -> /home/hung/fgcNote/data_factory/download/Juri\n",
      "Manon: 130 urls -> /home/hung/fgcNote/data_factory/download/Manon\n",
      "Sagat: 94 urls -> /home/hung/fgcNote/data_factory/download/Sagat\n",
      "Cammy: 124 urls -> /home/hung/fgcNote/data_factory/download/Cammy\n",
      "Ehonda: 0 urls -> /home/hung/fgcNote/data_factory/download/Ehonda\n",
      "Ken: 142 urls -> /home/hung/fgcNote/data_factory/download/Ken\n",
      "Marisa: 164 urls -> /home/hung/fgcNote/data_factory/download/Marisa\n",
      "Terry: 136 urls -> /home/hung/fgcNote/data_factory/download/Terry\n",
      "Chun-Li: 152 urls -> /home/hung/fgcNote/data_factory/download/Chun-Li\n",
      "Elena: 178 urls -> /home/hung/fgcNote/data_factory/download/Elena\n",
      "Kimberly: 156 urls -> /home/hung/fgcNote/data_factory/download/Kimberly\n",
      "Mbison: 0 urls -> /home/hung/fgcNote/data_factory/download/Mbison\n",
      "Zangief: 167 urls -> /home/hung/fgcNote/data_factory/download/Zangief\n",
      "Classic: 0 urls -> /home/hung/fgcNote/data_factory/download/Classic\n",
      "Guile: 132 urls -> /home/hung/fgcNote/data_factory/download/Guile\n",
      "Lily: 141 urls -> /home/hung/fgcNote/data_factory/download/Lily\n",
      "Modern: 0 urls -> /home/hung/fgcNote/data_factory/download/Modern\n"
     ]
    }
   ],
   "source": [
    "from pathlib import Path\n",
    "import csv\n",
    "\n",
    "base_download_dir = Path(\"/home/hung/fgcNote/data_factory/download\")\n",
    "characters_csv = Path(\"/home/hung/fgcNote/data_factory/character.csv\")\n",
    "\n",
    "characters = []\n",
    "with characters_csv.open(\"r\", encoding=\"utf-8\") as f:\n",
    "    reader = csv.reader(f)\n",
    "    for row in reader:\n",
    "        if row and row[0].strip():\n",
    "            characters.append(row[0].strip())\n",
    "\n",
    "print(f\"Total characters: {len(characters)}\")\n",
    "\n",
    "for character_name in characters:\n",
    "    page_title = f\"Street_Fighter_6/{character_name}\"\n",
    "    try:\n",
    "        urls = util_image.get_all_image_urls(page_title)\n",
    "    except Exception as exc:\n",
    "        print(f\"{character_name}: failed to fetch URLs ({exc})\")\n",
    "        continue\n",
    "\n",
    "    target_folder = str(base_download_dir / character_name)\n",
    "    print(f\"{character_name}: {len(urls)} urls -> {target_folder}\")\n",
    "    await util_image.async_download_files(\n",
    "        url_list=urls,\n",
    "        target_folder=target_folder,\n",
    "        concurrency=8,\n",
    "        delay_between_starts=0.2,\n",
    "    )\n"
   ]
  },
  {
   "cell_type": "markdown",
   "id": "81dde7c4",
   "metadata": {},
   "source": [
    "Because the wrong spell of E.Honda and M.Bison, so they are 0 urls. \n",
    "I do it manually."
   ]
  },
  {
   "cell_type": "code",
   "execution_count": 16,
   "id": "469ed2b5",
   "metadata": {},
   "outputs": [
    {
     "name": "stdout",
     "output_type": "stream",
     "text": [
      "Total characters: 2\n",
      "E.Honda: 133 urls -> /home/hung/fgcNote/data_factory/download/E.Honda\n",
      "M.Bison: 143 urls -> /home/hung/fgcNote/data_factory/download/M.Bison\n"
     ]
    }
   ],
   "source": [
    "from pathlib import Path\n",
    "import csv\n",
    "\n",
    "base_download_dir = Path(\"/home/hung/fgcNote/data_factory/download\")\n",
    "characters_csv = Path(\"/home/hung/fgcNote/data_factory/tmp.csv\")\n",
    "\n",
    "characters = []\n",
    "with characters_csv.open(\"r\", encoding=\"utf-8\") as f:\n",
    "    reader = csv.reader(f)\n",
    "    for row in reader:\n",
    "        if row and row[0].strip():\n",
    "            characters.append(row[0].strip())\n",
    "\n",
    "print(f\"Total characters: {len(characters)}\")\n",
    "\n",
    "for character_name in characters:\n",
    "    page_title = f\"Street_Fighter_6/{character_name}\"\n",
    "    try:\n",
    "        urls = util_image.get_all_image_urls(page_title)\n",
    "    except Exception as exc:\n",
    "        print(f\"{character_name}: failed to fetch URLs ({exc})\")\n",
    "        continue\n",
    "\n",
    "    target_folder = str(base_download_dir / character_name)\n",
    "    print(f\"{character_name}: {len(urls)} urls -> {target_folder}\")\n",
    "    await util_image.async_download_files(\n",
    "        url_list=urls,\n",
    "        target_folder=target_folder,\n",
    "        concurrency=8,\n",
    "        delay_between_starts=0.2,\n",
    "    )\n"
   ]
  }
 ],
 "metadata": {
  "kernelspec": {
   "display_name": ".venv",
   "language": "python",
   "name": "python3"
  },
  "language_info": {
   "codemirror_mode": {
    "name": "ipython",
    "version": 3
   },
   "file_extension": ".py",
   "mimetype": "text/x-python",
   "name": "python",
   "nbconvert_exporter": "python",
   "pygments_lexer": "ipython3",
   "version": "3.13.2"
  }
 },
 "nbformat": 4,
 "nbformat_minor": 5
}
